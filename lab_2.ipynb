{
  "nbformat": 4,
  "nbformat_minor": 0,
  "metadata": {
    "colab": {
      "provenance": []
    },
    "kernelspec": {
      "name": "python3",
      "display_name": "Python 3"
    },
    "language_info": {
      "name": "python"
    }
  },
  "cells": [
    {
      "cell_type": "code",
      "source": [
        "from google.colab import files\n",
        "import pandas as pd\n",
        "\n",
        "files.upload()\n",
        "fortune = pd.read_csv('fortune1000_2024.csv')\n",
        "print(fortune.head())"
      ],
      "metadata": {
        "colab": {
          "base_uri": "https://localhost:8080/",
          "height": 299
        },
        "id": "Hb3huh1WBiHi",
        "outputId": "0ff385ab-5562-4b93-9052-d17fc14269a9"
      },
      "execution_count": null,
      "outputs": [
        {
          "output_type": "display_data",
          "data": {
            "text/plain": [
              "<IPython.core.display.HTML object>"
            ],
            "text/html": [
              "\n",
              "     <input type=\"file\" id=\"files-775552d7-1a39-400b-9122-6839bfa28af8\" name=\"files[]\" multiple disabled\n",
              "        style=\"border:none\" />\n",
              "     <output id=\"result-775552d7-1a39-400b-9122-6839bfa28af8\">\n",
              "      Upload widget is only available when the cell has been executed in the\n",
              "      current browser session. Please rerun this cell to enable.\n",
              "      </output>\n",
              "      <script>// Copyright 2017 Google LLC\n",
              "//\n",
              "// Licensed under the Apache License, Version 2.0 (the \"License\");\n",
              "// you may not use this file except in compliance with the License.\n",
              "// You may obtain a copy of the License at\n",
              "//\n",
              "//      http://www.apache.org/licenses/LICENSE-2.0\n",
              "//\n",
              "// Unless required by applicable law or agreed to in writing, software\n",
              "// distributed under the License is distributed on an \"AS IS\" BASIS,\n",
              "// WITHOUT WARRANTIES OR CONDITIONS OF ANY KIND, either express or implied.\n",
              "// See the License for the specific language governing permissions and\n",
              "// limitations under the License.\n",
              "\n",
              "/**\n",
              " * @fileoverview Helpers for google.colab Python module.\n",
              " */\n",
              "(function(scope) {\n",
              "function span(text, styleAttributes = {}) {\n",
              "  const element = document.createElement('span');\n",
              "  element.textContent = text;\n",
              "  for (const key of Object.keys(styleAttributes)) {\n",
              "    element.style[key] = styleAttributes[key];\n",
              "  }\n",
              "  return element;\n",
              "}\n",
              "\n",
              "// Max number of bytes which will be uploaded at a time.\n",
              "const MAX_PAYLOAD_SIZE = 100 * 1024;\n",
              "\n",
              "function _uploadFiles(inputId, outputId) {\n",
              "  const steps = uploadFilesStep(inputId, outputId);\n",
              "  const outputElement = document.getElementById(outputId);\n",
              "  // Cache steps on the outputElement to make it available for the next call\n",
              "  // to uploadFilesContinue from Python.\n",
              "  outputElement.steps = steps;\n",
              "\n",
              "  return _uploadFilesContinue(outputId);\n",
              "}\n",
              "\n",
              "// This is roughly an async generator (not supported in the browser yet),\n",
              "// where there are multiple asynchronous steps and the Python side is going\n",
              "// to poll for completion of each step.\n",
              "// This uses a Promise to block the python side on completion of each step,\n",
              "// then passes the result of the previous step as the input to the next step.\n",
              "function _uploadFilesContinue(outputId) {\n",
              "  const outputElement = document.getElementById(outputId);\n",
              "  const steps = outputElement.steps;\n",
              "\n",
              "  const next = steps.next(outputElement.lastPromiseValue);\n",
              "  return Promise.resolve(next.value.promise).then((value) => {\n",
              "    // Cache the last promise value to make it available to the next\n",
              "    // step of the generator.\n",
              "    outputElement.lastPromiseValue = value;\n",
              "    return next.value.response;\n",
              "  });\n",
              "}\n",
              "\n",
              "/**\n",
              " * Generator function which is called between each async step of the upload\n",
              " * process.\n",
              " * @param {string} inputId Element ID of the input file picker element.\n",
              " * @param {string} outputId Element ID of the output display.\n",
              " * @return {!Iterable<!Object>} Iterable of next steps.\n",
              " */\n",
              "function* uploadFilesStep(inputId, outputId) {\n",
              "  const inputElement = document.getElementById(inputId);\n",
              "  inputElement.disabled = false;\n",
              "\n",
              "  const outputElement = document.getElementById(outputId);\n",
              "  outputElement.innerHTML = '';\n",
              "\n",
              "  const pickedPromise = new Promise((resolve) => {\n",
              "    inputElement.addEventListener('change', (e) => {\n",
              "      resolve(e.target.files);\n",
              "    });\n",
              "  });\n",
              "\n",
              "  const cancel = document.createElement('button');\n",
              "  inputElement.parentElement.appendChild(cancel);\n",
              "  cancel.textContent = 'Cancel upload';\n",
              "  const cancelPromise = new Promise((resolve) => {\n",
              "    cancel.onclick = () => {\n",
              "      resolve(null);\n",
              "    };\n",
              "  });\n",
              "\n",
              "  // Wait for the user to pick the files.\n",
              "  const files = yield {\n",
              "    promise: Promise.race([pickedPromise, cancelPromise]),\n",
              "    response: {\n",
              "      action: 'starting',\n",
              "    }\n",
              "  };\n",
              "\n",
              "  cancel.remove();\n",
              "\n",
              "  // Disable the input element since further picks are not allowed.\n",
              "  inputElement.disabled = true;\n",
              "\n",
              "  if (!files) {\n",
              "    return {\n",
              "      response: {\n",
              "        action: 'complete',\n",
              "      }\n",
              "    };\n",
              "  }\n",
              "\n",
              "  for (const file of files) {\n",
              "    const li = document.createElement('li');\n",
              "    li.append(span(file.name, {fontWeight: 'bold'}));\n",
              "    li.append(span(\n",
              "        `(${file.type || 'n/a'}) - ${file.size} bytes, ` +\n",
              "        `last modified: ${\n",
              "            file.lastModifiedDate ? file.lastModifiedDate.toLocaleDateString() :\n",
              "                                    'n/a'} - `));\n",
              "    const percent = span('0% done');\n",
              "    li.appendChild(percent);\n",
              "\n",
              "    outputElement.appendChild(li);\n",
              "\n",
              "    const fileDataPromise = new Promise((resolve) => {\n",
              "      const reader = new FileReader();\n",
              "      reader.onload = (e) => {\n",
              "        resolve(e.target.result);\n",
              "      };\n",
              "      reader.readAsArrayBuffer(file);\n",
              "    });\n",
              "    // Wait for the data to be ready.\n",
              "    let fileData = yield {\n",
              "      promise: fileDataPromise,\n",
              "      response: {\n",
              "        action: 'continue',\n",
              "      }\n",
              "    };\n",
              "\n",
              "    // Use a chunked sending to avoid message size limits. See b/62115660.\n",
              "    let position = 0;\n",
              "    do {\n",
              "      const length = Math.min(fileData.byteLength - position, MAX_PAYLOAD_SIZE);\n",
              "      const chunk = new Uint8Array(fileData, position, length);\n",
              "      position += length;\n",
              "\n",
              "      const base64 = btoa(String.fromCharCode.apply(null, chunk));\n",
              "      yield {\n",
              "        response: {\n",
              "          action: 'append',\n",
              "          file: file.name,\n",
              "          data: base64,\n",
              "        },\n",
              "      };\n",
              "\n",
              "      let percentDone = fileData.byteLength === 0 ?\n",
              "          100 :\n",
              "          Math.round((position / fileData.byteLength) * 100);\n",
              "      percent.textContent = `${percentDone}% done`;\n",
              "\n",
              "    } while (position < fileData.byteLength);\n",
              "  }\n",
              "\n",
              "  // All done.\n",
              "  yield {\n",
              "    response: {\n",
              "      action: 'complete',\n",
              "    }\n",
              "  };\n",
              "}\n",
              "\n",
              "scope.google = scope.google || {};\n",
              "scope.google.colab = scope.google.colab || {};\n",
              "scope.google.colab._files = {\n",
              "  _uploadFiles,\n",
              "  _uploadFilesContinue,\n",
              "};\n",
              "})(self);\n",
              "</script> "
            ]
          },
          "metadata": {}
        },
        {
          "output_type": "stream",
          "name": "stdout",
          "text": [
            "Saving fortune1000_2024.csv to fortune1000_2024 (1).csv\n",
            "   Rank             Company       Sector  \\\n",
            "0     1             Walmart    Retailing   \n",
            "1     2              Amazon    Retailing   \n",
            "2     3               Apple   Technology   \n",
            "3     4  UnitedHealth Group  Health Care   \n",
            "4     5  Berkshire Hathaway   Financials   \n",
            "\n",
            "                                   Industry  Employees  Revenues  Profits  \n",
            "0                     General Merchandisers    2100000  648125.0  15511.0  \n",
            "1           Internet Services and Retailing    1525000  574785.0  30425.0  \n",
            "2               Computers, Office Equipment     161000  383285.0  96995.0  \n",
            "3   Health Care: Insurance and Managed Care     440000  371622.0  22381.0  \n",
            "4  Insurance: Property and Casualty (Stock)     396500  364482.0  96223.0  \n"
          ]
        }
      ]
    },
    {
      "cell_type": "code",
      "source": [
        "#Ram Vallabhaneni, 101003650\n",
        "#Quesstion 1: What is the average number of employees per industry?\n",
        "avg_no_emp_in_ind = fortune.groupby('Industry')['Employees'].agg('mean')\n",
        "print(avg_no_emp_in_ind)"
      ],
      "metadata": {
        "colab": {
          "base_uri": "https://localhost:8080/"
        },
        "id": "uSEjFwnACPP2",
        "outputId": "8cdfb7f7-41af-40d6-eb02-d34be40e076a"
      },
      "execution_count": null,
      "outputs": [
        {
          "output_type": "stream",
          "name": "stdout",
          "text": [
            "Industry\n",
            "Advertising, marketing                           38490.000000\n",
            "Aerospace & Defense                              51402.894737\n",
            "Airlines                                         45986.454545\n",
            "Apparel                                          20885.200000\n",
            "Automotive Retailing, Services                   18872.384615\n",
            "                                                     ...     \n",
            "Waste Management                                 31057.000000\n",
            "Wholesalers: Diversified                         13434.315789\n",
            "Wholesalers: Electronics and Office Equipment    14180.600000\n",
            "Wholesalers: Food and Grocery                    30733.833333\n",
            "Wholesalers: Health Care                         29288.571429\n",
            "Name: Employees, Length: 75, dtype: float64\n"
          ]
        }
      ]
    },
    {
      "cell_type": "code",
      "source": [
        "#Ram Vallabhaneni, 101003650\n",
        "#Quesstion 2: How many companies have profits greater than the average profit?\n",
        "avg_fortune = fortune[fortune.Profits > fortune['Profits'].mean()]['Company']\n",
        "print(avg_fortune)"
      ],
      "metadata": {
        "colab": {
          "base_uri": "https://localhost:8080/"
        },
        "id": "mkW3DyzOSRAK",
        "outputId": "6e8032c1-586e-427b-d22a-0a8cfcece782"
      },
      "execution_count": null,
      "outputs": [
        {
          "output_type": "stream",
          "name": "stdout",
          "text": [
            "0                   Walmart\n",
            "1                    Amazon\n",
            "2                     Apple\n",
            "3        UnitedHealth Group\n",
            "4        Berkshire Hathaway\n",
            "               ...         \n",
            "582         Arista Networks\n",
            "588    Simon Property Group\n",
            "592               CME Group\n",
            "684          Public Storage\n",
            "803         VICI Properties\n",
            "Name: Company, Length: 201, dtype: object\n"
          ]
        }
      ]
    },
    {
      "cell_type": "code",
      "source": [
        "#Ram Vallabhaneni, 101003650\n",
        "#Quesstion 3: What are the total and average revenues for each sector?\n",
        "avg_rev_each_sec = fortune.groupby('Sector')['Revenues'].agg(Mean = 'mean',Sum='sum')\n",
        "print(avg_rev_each_sec)"
      ],
      "metadata": {
        "colab": {
          "base_uri": "https://localhost:8080/"
        },
        "id": "XkzPFzZxTaxv",
        "outputId": "15779e51-a6c3-4552-e09e-68cd26db6ce1"
      },
      "execution_count": null,
      "outputs": [
        {
          "output_type": "stream",
          "name": "stdout",
          "text": [
            "                                       Mean        Sum\n",
            "Sector                                                \n",
            "Aerospace & Defense            20487.405263   389260.7\n",
            "Apparel                         8706.613333   130599.2\n",
            "Business Services               8331.708475   491570.8\n",
            "Chemicals                      10997.780769   285942.3\n",
            "Energy                         21398.438318  2289632.9\n",
            "Engineering & Construction      9316.077419   288798.4\n",
            "Financials                     22917.158282  3735496.8\n",
            "Food & Drug Stores             52199.144444   469792.3\n",
            "Food, Beverages & Tobacco      19923.931429   697337.6\n",
            "Health Care                    38810.416250  3104833.3\n",
            "Hotels, Restaurants & Leisure   8590.865517   249135.1\n",
            "Household Products             11863.860000   237277.2\n",
            "Industrials                    11961.085417   574132.1\n",
            "Materials                       8561.502128   402390.6\n",
            "Media                          12592.030769   327392.8\n",
            "Motor Vehicles & Parts         29126.728571   611661.3\n",
            "Retailing                      36809.552778  2650287.8\n",
            "Technology                     21051.257391  2420894.6\n",
            "Telecommunications             53811.300000   484301.7\n",
            "Transportation                 15684.705128   611703.5\n",
            "Wholesalers                    17087.440000   512623.2\n"
          ]
        }
      ]
    },
    {
      "cell_type": "code",
      "source": [
        "#Ram Vallabhaneni, 101003650\n",
        "# Quesstion 4: What is the total revenue of companies in the healthcare sector that have more\n",
        "# than 50000 employees?\n",
        "total_rev = fortune[fortune.Employees>5000].groupby('Company')['Revenues'].agg(Sum='sum')\n",
        "print(total_rev)"
      ],
      "metadata": {
        "colab": {
          "base_uri": "https://localhost:8080/"
        },
        "id": "lOvdk3qjUmu8",
        "outputId": "fe0da84d-4bf3-48be-cbe2-2b8a0f75b350"
      },
      "execution_count": null,
      "outputs": [
        {
          "output_type": "stream",
          "name": "stdout",
          "text": [
            "                               Sum\n",
            "Company                           \n",
            "3M                         32681.0\n",
            "A.O. Smith                  3852.8\n",
            "ABM Industries              8096.4\n",
            "ADT                         6017.7\n",
            "AECOM                      14591.3\n",
            "...                            ...\n",
            "Zimmer Biomet Holdings      7394.2\n",
            "Zions Bancorp.              4624.0\n",
            "Zoetis                      8544.0\n",
            "Zoom Video Communications   4527.2\n",
            "iHeartMedia                 3751.0\n",
            "\n",
            "[821 rows x 1 columns]\n"
          ]
        }
      ]
    },
    {
      "cell_type": "code",
      "source": [
        "#Ram Vallabhaneni, 101003650\n",
        "# Quesstion 5: What is the total revenue and total employees for companies that have profits\n",
        "# above the median profit?\n",
        "cols = ['Revenues', 'Employees']\n",
        "total_profit= fortune[fortune.Profits > fortune['Profits'].median()].groupby('Company')[cols].agg('sum')\n",
        "print(total_profit)"
      ],
      "metadata": {
        "colab": {
          "base_uri": "https://localhost:8080/"
        },
        "id": "jSKBXkZJYfs9",
        "outputId": "3bfb79b8-d369-495b-c940-641f3a5391c6"
      },
      "execution_count": null,
      "outputs": [
        {
          "output_type": "stream",
          "name": "stdout",
          "text": [
            "                           Revenues  Employees\n",
            "Company                                       \n",
            "A.O. Smith                   3852.8      12000\n",
            "AGCO                        14412.4      27900\n",
            "AIG                         46802.0      25200\n",
            "APA                          8192.0       2271\n",
            "AT&T                       122428.0     150470\n",
            "...                             ...        ...\n",
            "Yum China Holdings          10978.0     293500\n",
            "Zimmer Biomet Holdings       7394.2      18000\n",
            "Zions Bancorp.               4624.0       9679\n",
            "Zoetis                       8544.0      14100\n",
            "Zoom Video Communications    4527.2       7420\n",
            "\n",
            "[499 rows x 2 columns]\n"
          ]
        }
      ]
    },
    {
      "cell_type": "code",
      "source": [
        "#Ram Vallabhaneni, 101003650\n",
        "# Quesstion 6: For each sector, what are the total, average, and max profits, and the number of\n",
        "# companies in each sector?\n",
        "count_comp = fortune.groupby('Sector')['Company'].count()\n",
        "total_val = fortune.groupby('Sector')['Profits'].agg(Max = 'max',Mean='mean', Sum='sum')\n",
        "print(total_val)\n",
        "print(count_comp)"
      ],
      "metadata": {
        "colab": {
          "base_uri": "https://localhost:8080/"
        },
        "id": "LDz_Zuq-Y6Ai",
        "outputId": "c1b83bd4-5f13-4d89-a02c-b4031bb8a8d1"
      },
      "execution_count": null,
      "outputs": [
        {
          "output_type": "stream",
          "name": "stdout",
          "text": [
            "                                   Max         Mean       Sum\n",
            "Sector                                                       \n",
            "Aerospace & Defense             6920.0  1051.121053   19971.3\n",
            "Apparel                         5070.0   711.726667   10675.9\n",
            "Business Services              17273.0  1030.001695   60770.1\n",
            "Chemicals                       2388.8   395.611538   10285.9\n",
            "Energy                         36010.0  2265.521698  240145.3\n",
            "Engineering & Construction      4745.7   752.751613   23335.3\n",
            "Financials                     96223.0  2568.457669  418658.6\n",
            "Food & Drug Stores              4349.0   538.833333    4849.5\n",
            "Food, Beverages & Tobacco      10714.0  1927.680000   67468.8\n",
            "Health Care                    35153.0  2084.101250  166728.1\n",
            "Hotels, Restaurants & Leisure   8468.8   913.134483   26480.9\n",
            "Household Products             14653.0  1100.360000   22007.2\n",
            "Industrials                    13219.0  1607.697917   77169.5\n",
            "Materials                       4524.8   520.229787   24450.8\n",
            "Media                           5408.0   153.111538    3980.9\n",
            "Motor Vehicles & Parts         14997.0  1520.600000   31932.6\n",
            "Retailing                      30425.0  1566.693056  112801.9\n",
            "Technology                     96995.0  3976.306140  453298.9\n",
            "Telecommunications             15388.0  3726.788889   33541.1\n",
            "Transportation                  6708.0  1003.543590   39138.2\n",
            "Wholesalers                     1829.0   524.690000   15740.7\n",
            "Sector\n",
            "Aerospace & Defense               19\n",
            "Apparel                           15\n",
            "Business Services                 59\n",
            "Chemicals                         26\n",
            "Energy                           107\n",
            "Engineering & Construction        31\n",
            "Financials                       163\n",
            "Food & Drug Stores                 9\n",
            "Food, Beverages & Tobacco         35\n",
            "Health Care                       80\n",
            "Hotels, Restaurants & Leisure     29\n",
            "Household Products                20\n",
            "Industrials                       48\n",
            "Materials                         47\n",
            "Media                             26\n",
            "Motor Vehicles & Parts            21\n",
            "Retailing                         72\n",
            "Technology                       115\n",
            "Telecommunications                 9\n",
            "Transportation                    39\n",
            "Wholesalers                       30\n",
            "Name: Company, dtype: int64\n"
          ]
        }
      ]
    },
    {
      "cell_type": "code",
      "source": [
        "#Ram Vallabhaneni, 101003650\n",
        "# Quesstion 7: What is the standard deviation of the number of employees in the Technology\n",
        "# sector? Round the result to 2 decimal places.\n",
        "std_employees = fortune[fortune['Sector'] == 'Technology'].groupby('Sector')['Employees'].std().round(2)\n",
        "print(std_employees)"
      ],
      "metadata": {
        "colab": {
          "base_uri": "https://localhost:8080/"
        },
        "id": "ikpwASURZX25",
        "outputId": "38a5596a-b475-412b-f3ae-63c6b8153c2e"
      },
      "execution_count": null,
      "outputs": [
        {
          "output_type": "stream",
          "name": "stdout",
          "text": [
            "Sector\n",
            "Technology    69127.68\n",
            "Name: Employees, dtype: float64\n"
          ]
        }
      ]
    }
  ]
}